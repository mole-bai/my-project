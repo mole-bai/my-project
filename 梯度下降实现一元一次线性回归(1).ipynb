{
 "cells": [
  {
   "cell_type": "code",
   "execution_count": 7,
   "metadata": {},
   "outputs": [],
   "source": [
    "import matplotlib.pyplot as plt\n",
    "import tensorflow as tf\n",
    "%matplotlib inline"
   ]
  },
  {
   "cell_type": "code",
   "execution_count": 18,
   "metadata": {},
   "outputs": [
    {
     "data": {
      "text/plain": [
       "<matplotlib.collections.PathCollection at 0x18283c88358>"
      ]
     },
     "execution_count": 18,
     "metadata": {},
     "output_type": "execute_result"
    },
    {
     "data": {
      "image/png": "[encoded data removed]",
      "text/plain": [
       "<Figure size 432x288 with 1 Axes>"
      ]
     },
     "metadata": {
      "needs_background": "light"
     },
     "output_type": "display_data"
    }
   ],
   "source": [
    "####### >>>>>填写<<<<<   设置你想要的真实斜率和截距， 以及数据点(50-200) >>>>>填写<<<<< ############\n",
    "true_w = 5\n",
    "true_b = 3\n",
    "num_samples = 200\n",
    "\n",
    "############################################################################################\n",
    "\n",
    "\n",
    "# 初始化随机数据\n",
    "X = tf.random.normal(shape=[num_samples, 1]).numpy()\n",
    "noise = tf.random.normal(shape=[num_samples, 1]).numpy()\n",
    "\n",
    "####### >>>>>填写<<<<< 在下述函数尾端，添加噪音项, 注意删除下划线 >>>>>填写<<<<<  ################################\n",
    "y = X * true_w + true_b + noise\n",
    "#######################################\n",
    "\n",
    "plt.scatter(X, y)"
   ]
  },
  {
   "cell_type": "code",
   "execution_count": 16,
   "metadata": {},
   "outputs": [],
   "source": [
    "\n",
    "W = tf.Variable(tf.random.uniform([1]))  # 随机初始化参数\n",
    "b = tf.Variable(tf.random.uniform([1]))\n",
    "\n",
    "# >>>>>填写<<<<<  定义一个随机一元一次线性函数  y = W * x + b   >>>>>填写<<<<<  ##\n",
    "# 思考 这里的x为什么是小写？ #\n",
    "def random_line(x):\n",
    " \n",
    "    y = W * x + b \n",
    "    return y\n"
   ]
  },
  {
   "cell_type": "code",
   "execution_count": 10,
   "metadata": {},
   "outputs": [
    {
     "data": {
      "text/plain": [
       "[<matplotlib.lines.Line2D at 0x18283856b38>]"
      ]
     },
     "execution_count": 10,
     "metadata": {},
     "output_type": "execute_result"
    },
    {
     "data": {
      "image/png": "[encoded data removed]",
      "text/plain": [
       "<Figure size 432x288 with 1 Axes>"
      ]
     },
     "metadata": {
      "needs_background": "light"
     },
     "output_type": "display_data"
    }
   ],
   "source": [
    "plt.scatter(X, y)\n",
    "plt.plot(X, random_line(X), c='r')"
   ]
  },
  {
   "cell_type": "code",
   "execution_count": 11,
   "metadata": {},
   "outputs": [],
   "source": [
    "def loss_fn( x, y):\n",
    "    y_ = random_line(x)\n",
    "    return tf.reduce_mean(tf.square(y_ - y))\n",
    "#交叉熵"
   ]
  },
  {
   "cell_type": "code",
   "execution_count": 12,
   "metadata": {},
   "outputs": [
    {
     "name": "stdout",
     "output_type": "stream",
     "text": [
      "Epoch [0/50], loss [32.170], W is [0.193], b is [0.199]\n",
      "Epoch [1/50], loss [30.978], W is [0.284], b is [0.255]\n",
      "Epoch [2/50], loss [29.830], W is [0.374], b is [0.311]\n",
      "Epoch [3/50], loss [28.726], W is [0.462], b is [0.365]\n",
      "Epoch [4/50], loss [27.665], W is [0.549], b is [0.418]\n",
      "Epoch [5/50], loss [26.644], W is [0.634], b is [0.470]\n",
      "Epoch [6/50], loss [25.661], W is [0.717], b is [0.521]\n",
      "Epoch [7/50], loss [24.717], W is [0.799], b is [0.571]\n",
      "Epoch [8/50], loss [23.808], W is [0.879], b is [0.620]\n",
      "Epoch [9/50], loss [22.934], W is [0.957], b is [0.668]\n",
      "Epoch [10/50], loss [22.093], W is [1.035], b is [0.715]\n",
      "Epoch [11/50], loss [21.285], W is [1.110], b is [0.761]\n",
      "Epoch [12/50], loss [20.507], W is [1.185], b is [0.807]\n",
      "Epoch [13/50], loss [19.759], W is [1.257], b is [0.851]\n",
      "Epoch [14/50], loss [19.039], W is [1.329], b is [0.894]\n",
      "Epoch [15/50], loss [18.347], W is [1.399], b is [0.937]\n",
      "Epoch [16/50], loss [17.681], W is [1.468], b is [0.979]\n",
      "Epoch [17/50], loss [17.041], W is [1.535], b is [1.019]\n",
      "Epoch [18/50], loss [16.425], W is [1.601], b is [1.059]\n",
      "Epoch [19/50], loss [15.833], W is [1.666], b is [1.099]\n",
      "Epoch [20/50], loss [15.263], W is [1.730], b is [1.137]\n",
      "Epoch [21/50], loss [14.715], W is [1.792], b is [1.175]\n",
      "Epoch [22/50], loss [14.187], W is [1.854], b is [1.212]\n",
      "Epoch [23/50], loss [13.680], W is [1.914], b is [1.248]\n",
      "Epoch [24/50], loss [13.193], W is [1.973], b is [1.283]\n",
      "Epoch [25/50], loss [12.723], W is [2.031], b is [1.318]\n",
      "Epoch [26/50], loss [12.272], W is [2.087], b is [1.352]\n",
      "Epoch [27/50], loss [11.838], W is [2.143], b is [1.385]\n",
      "Epoch [28/50], loss [11.420], W is [2.198], b is [1.418]\n",
      "Epoch [29/50], loss [11.019], W is [2.251], b is [1.450]\n",
      "Epoch [30/50], loss [10.632], W is [2.304], b is [1.482]\n",
      "Epoch [31/50], loss [10.261], W is [2.356], b is [1.512]\n",
      "Epoch [32/50], loss [9.903], W is [2.406], b is [1.542]\n",
      "Epoch [33/50], loss [9.560], W is [2.456], b is [1.572]\n",
      "Epoch [34/50], loss [9.229], W is [2.505], b is [1.601]\n",
      "Epoch [35/50], loss [8.911], W is [2.552], b is [1.629]\n",
      "Epoch [36/50], loss [8.605], W is [2.599], b is [1.657]\n",
      "Epoch [37/50], loss [8.310], W is [2.645], b is [1.684]\n",
      "Epoch [38/50], loss [8.027], W is [2.690], b is [1.711]\n",
      "Epoch [39/50], loss [7.755], W is [2.735], b is [1.737]\n",
      "Epoch [40/50], loss [7.493], W is [2.778], b is [1.763]\n",
      "Epoch [41/50], loss [7.241], W is [2.821], b is [1.788]\n",
      "Epoch [42/50], loss [6.999], W is [2.863], b is [1.813]\n",
      "Epoch [43/50], loss [6.766], W is [2.904], b is [1.837]\n",
      "Epoch [44/50], loss [6.542], W is [2.944], b is [1.860]\n",
      "Epoch [45/50], loss [6.326], W is [2.983], b is [1.884]\n",
      "Epoch [46/50], loss [6.118], W is [3.022], b is [1.906]\n",
      "Epoch [47/50], loss [5.919], W is [3.060], b is [1.929]\n",
      "Epoch [48/50], loss [5.727], W is [3.097], b is [1.950]\n",
      "Epoch [49/50], loss [5.542], W is [3.134], b is [1.972]\n"
     ]
    }
   ],
   "source": [
    "### >>>>>填写<<<<< 通过改变epochs 的值，推荐起始10， 和learning rate 学习率 推荐0.1起始 观察梯度下降学习的线性函数w b的值，以及loss函数的变化>>>>>填写<<<<<  ######\n",
    "\n",
    "EPOCHS = 50\n",
    "LEARNING_RATE = 0.01\n",
    "#######################################################################################################################################\n",
    "\n",
    "\n",
    "\n",
    "for epoch in range(EPOCHS):  # 迭代次数\n",
    "    with tf.GradientTape() as tape:  # 追踪梯度\n",
    "        loss = loss_fn(X, y)  # 计算损失\n",
    "    dW, db = tape.gradient(loss, [W, b])  # 计算梯度\n",
    "    W.assign_sub(LEARNING_RATE * dW)  # 更新梯度\n",
    "    b.assign_sub(LEARNING_RATE * db)\n",
    "    # 输出计算过程\n",
    "    print('Epoch [{}/{}], loss [{:.3f}], W is [{:.3f}], b is [{:.3f}]'.format(epoch, EPOCHS, loss,\n",
    "                                                                     float(W.numpy()),\n",
    "                                                                     float(b.numpy())))"
   ]
  },
  {
   "cell_type": "code",
   "execution_count": null,
   "metadata": {},
   "outputs": [],
   "source": []
  },
  {
   "cell_type": "code",
   "execution_count": null,
   "metadata": {},
   "outputs": [],
   "source": []
  }
 ],
 "metadata": {
  "kernelspec": {
   "display_name": "Python 3",
   "language": "python",
   "name": "python3"
  },
  "language_info": {
   "codemirror_mode": {
    "name": "ipython",
    "version": 3
   },
   "file_extension": ".py",
   "mimetype": "text/x-python",
   "name": "python",
   "nbconvert_exporter": "python",
   "pygments_lexer": "ipython3",
   "version": "3.7.3"
  }
 },
 "nbformat": 4,
 "nbformat_minor": 2
}
